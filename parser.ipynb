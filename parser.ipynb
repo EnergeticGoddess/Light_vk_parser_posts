{
 "cells": [
  {
   "cell_type": "code",
   "execution_count": 2,
   "metadata": {},
   "outputs": [],
   "source": [
    "import sqlite3\n",
    "from tokens import TOKENVK\n",
    "import pandas as pd\n",
    "import requests\n",
    "import datetime\n",
    "\n",
    "con = sqlite3.connect(\"VK_page_testcase2.db\")"
   ]
  },
  {
   "cell_type": "code",
   "execution_count": null,
   "metadata": {},
   "outputs": [],
   "source": [
    "# Парсер постов со страницы с использованием VK API\n",
    "TOKEN_USER = TOKENVK\n",
    "VERSION = 5.199\n",
    "OWNER_ID = \"ltkitten\"\n",
    "\n",
    "response = requests.get('https://api.vk.com/method/wall.get',\n",
    "params={'access_token': TOKEN_USER,\n",
    "        'v': VERSION,\n",
    "        'count': 100,\n",
    "        'owner_id': OWNER_ID,\n",
    "        'filter': str('owner')})\n",
    "\n",
    "data = response.json()['response']['items']\n",
    "print(data[0])"
   ]
  },
  {
   "cell_type": "code",
   "execution_count": 162,
   "metadata": {},
   "outputs": [],
   "source": [
    "# Создаем Список для дальнейшей загрузки в таблицу.\n",
    "data_to_sql = []\n",
    "for i in range(len(data)):\n",
    "    temp_list = []\n",
    "    temp_list.append(data[i]['likes']['count'])\n",
    "    temp_list.append(data[i]['date'])\n",
    "    data_to_sql.append(temp_list)\n",
    "    data_to_sql[i][1] = datetime.datetime.fromtimestamp(data_to_sql[i][1])"
   ]
  },
  {
   "cell_type": "code",
   "execution_count": 4,
   "metadata": {},
   "outputs": [],
   "source": [
    "# Создаем подключение к движку sqlite\n",
    "cur = con.cursor()"
   ]
  },
  {
   "cell_type": "code",
   "execution_count": 164,
   "metadata": {},
   "outputs": [],
   "source": [
    "# Создаем таблицу и выполняем запрос\n",
    "cur.execute(\"CREATE TABLE VkPosts(likes, Date, Daypart, Weekday)\")\n",
    "con.commit()"
   ]
  },
  {
   "cell_type": "code",
   "execution_count": 165,
   "metadata": {},
   "outputs": [],
   "source": [
    "# Создаем столбец времени суток для аналитики\n",
    "for i in range(len(data_to_sql)):\n",
    "    if data_to_sql[i][1].time() <= datetime.time(5, 59, 59):\n",
    "        data_to_sql[i].append(\"Night\")\n",
    "        continue\n",
    "    if data_to_sql[i][1].time() <= datetime.time(11, 59, 59):\n",
    "        data_to_sql[i].append(\"Morning\")\n",
    "        continue\n",
    "    if data_to_sql[i][1].time() <= datetime.time(17, 59, 59):\n",
    "        data_to_sql[i].append(\"Afternoon\")\n",
    "        continue\n",
    "    if data_to_sql[i][1].time() <= datetime.time(23, 59, 59):\n",
    "        data_to_sql[i].append(\"Evening\")\n",
    "        continue"
   ]
  },
  {
   "cell_type": "code",
   "execution_count": null,
   "metadata": {},
   "outputs": [],
   "source": [
    "# Создаем столбец дня недели для аналитики\n",
    "for i in range(len(data_to_sql)):\n",
    "    if data_to_sql[i][1].weekday() == 0:\n",
    "        data_to_sql[i].append('Monday')\n",
    "        continue\n",
    "    if data_to_sql[i][1].weekday() == 1:\n",
    "        data_to_sql[i].append('Tuesday')\n",
    "        continue\n",
    "    if data_to_sql[i][1].weekday() == 2:\n",
    "        data_to_sql[i].append('Wednesday')\n",
    "        continue\n",
    "    if data_to_sql[i][1].weekday() == 3:\n",
    "        data_to_sql[i].append('Thursday')\n",
    "        continue\n",
    "    if data_to_sql[i][1].weekday() == 4:\n",
    "        data_to_sql[i].append('Friday')\n",
    "        continue\n",
    "    if data_to_sql[i][1].weekday() == 5:\n",
    "        data_to_sql[i].append('Saturday')\n",
    "        continue\n",
    "    if data_to_sql[i][1].weekday() == 6:\n",
    "        data_to_sql[i].append('Sunday')\n",
    "        continue\n",
    "for i in range(len(data_to_sql)):\n",
    "    print(data_to_sql[i])"
   ]
  },
  {
   "cell_type": "code",
   "execution_count": 167,
   "metadata": {},
   "outputs": [],
   "source": [
    "# Загружаем спарсенные данные в таблицу\n",
    "insert_query = (\"INSERT INTO VkPosts(likes, Date, Daypart, Weekday) VALUES (?, ?, ?, ?)\")\n",
    "cur.executemany(insert_query, data_to_sql)\n",
    "con.commit()"
   ]
  },
  {
   "cell_type": "code",
   "execution_count": 59,
   "metadata": {},
   "outputs": [],
   "source": [
    "cur.close()"
   ]
  },
  {
   "cell_type": "code",
   "execution_count": null,
   "metadata": {},
   "outputs": [],
   "source": [
    "# Начинаем писать сами запросы.\n",
    "# Запрос 1. Влияет ли время суток на количество лайков?\n",
    "cur.execute(\"SELECT SUM(likes), Daypart FROM VkPosts GROUP BY Daypart\")\n",
    "sqldata=cur.fetchall()\n",
    "print(sqldata)"
   ]
  },
  {
   "cell_type": "code",
   "execution_count": null,
   "metadata": {},
   "outputs": [],
   "source": [
    "# Запрос 2. Влияет ли день недели на количество лайков?\n",
    "cur.execute(\"SELECT SUM(likes), Weekday FROM VkPosts WHERE likes GROUP BY Weekday\")\n",
    "sqldata=cur.fetchall()\n",
    "print(sqldata)"
   ]
  },
  {
   "cell_type": "code",
   "execution_count": null,
   "metadata": {},
   "outputs": [],
   "source": [
    "# Запрос 3. Влияет ли промежуток?\n",
    "cur.execute('''SELECT\n",
    "    likes,\n",
    "    Date,\n",
    "    JULIANDAY(Date) - JULIANDAY(LAG(Date) OVER (ORDER BY Date)) AS day_diff\n",
    "FROM\n",
    "    VkPosts\n",
    "ORDER BY\n",
    "    Date DESC;''')\n",
    "sqldata=cur.fetchall()\n",
    "print(sqldata)"
   ]
  },
  {
   "cell_type": "code",
   "execution_count": null,
   "metadata": {},
   "outputs": [],
   "source": [
    "# Задание 3. Уберем выбросы в ллайках на моей странице.\n",
    "cur.execute('''SELECT\n",
    "    likes,\n",
    "    Date,\n",
    "    JULIANDAY(Date) - JULIANDAY(LAG(Date) OVER (ORDER BY Date)) AS day_diff\n",
    "FROM\n",
    "    VkPosts\n",
    "WHERE likes < 25\n",
    "ORDER BY\n",
    "    Date DESC;''')\n",
    "sqldata=cur.fetchall()\n",
    "print(sqldata)"
   ]
  },
  {
   "cell_type": "code",
   "execution_count": 139,
   "metadata": {},
   "outputs": [],
   "source": [
    "db_df = pd.read_sql_query(\"SELECT * FROM VkPosts\", con)\n",
    "db_df.to_csv('database2.csv', index=False)"
   ]
  },
  {
   "cell_type": "code",
   "execution_count": 156,
   "metadata": {},
   "outputs": [],
   "source": [
    "#Закрываем коннект\n",
    "con.close()"
   ]
  }
 ],
 "metadata": {
  "kernelspec": {
   "display_name": "venv",
   "language": "python",
   "name": "python3"
  },
  "language_info": {
   "codemirror_mode": {
    "name": "ipython",
    "version": 3
   },
   "file_extension": ".py",
   "mimetype": "text/x-python",
   "name": "python",
   "nbconvert_exporter": "python",
   "pygments_lexer": "ipython3",
   "version": "3.9.10"
  }
 },
 "nbformat": 4,
 "nbformat_minor": 2
}
