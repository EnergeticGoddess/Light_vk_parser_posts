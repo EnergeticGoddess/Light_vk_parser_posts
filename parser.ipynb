{
 "cells": [
  {
   "cell_type": "code",
   "execution_count": 3,
   "metadata": {},
   "outputs": [],
   "source": [
    "import sqlite3\n",
    "from tokens import TOKENVK\n",
    "import pandas as pd\n",
    "import requests\n",
    "import datetime\n",
    "\n",
    "con = sqlite3.connect(\"VK_page_testcase2.db\")"
   ]
  },
  {
   "cell_type": "code",
   "execution_count": 161,
   "metadata": {},
   "outputs": [
    {
     "name": "stdout",
     "output_type": "stream",
     "text": [
      "{'inner_type': 'wall_wallpost', 'donut': {'is_donut': False}, 'comments': {'count': 0}, 'marked_as_ads': 0, 'hash': 'v87sZLbnXNlYvk3onA', 'type': 'post', 'attachments': [{'type': 'photo', 'photo': {'album_id': -7, 'date': 1688640990, 'id': 457260872, 'owner_id': 102183885, 'access_key': '3018bce535014db2e1', 'post_id': 15381, 'sizes': [{'height': 75, 'type': 's', 'width': 56, 'url': 'https://sun9-78.userapi.com/s/v1/ig2/-7E3tJJ5nyYsovyis62ToV90CGhhkej32Lq6YyWxPKeFFOeVfwvDI-vJvxNEX6jgPJdEiQGe7o2hCztJIQL_7J_0.jpg?quality=95&as=32x43,48x64,72x96,108x144,160x213,240x320,360x480,480x640,540x720,640x854,720x960,1080x1441,1280x1708,1440x1921,1919x2560&from=bu&cs=56x75'}, {'height': 130, 'type': 'm', 'width': 97, 'url': 'https://sun9-78.userapi.com/s/v1/ig2/-7E3tJJ5nyYsovyis62ToV90CGhhkej32Lq6YyWxPKeFFOeVfwvDI-vJvxNEX6jgPJdEiQGe7o2hCztJIQL_7J_0.jpg?quality=95&as=32x43,48x64,72x96,108x144,160x213,240x320,360x480,480x640,540x720,640x854,720x960,1080x1441,1280x1708,1440x1921,1919x2560&from=bu&cs=97x130'}, {'height': 604, 'type': 'x', 'width': 453, 'url': 'https://sun9-78.userapi.com/s/v1/ig2/-7E3tJJ5nyYsovyis62ToV90CGhhkej32Lq6YyWxPKeFFOeVfwvDI-vJvxNEX6jgPJdEiQGe7o2hCztJIQL_7J_0.jpg?quality=95&as=32x43,48x64,72x96,108x144,160x213,240x320,360x480,480x640,540x720,640x854,720x960,1080x1441,1280x1708,1440x1921,1919x2560&from=bu&cs=453x604'}, {'height': 807, 'type': 'y', 'width': 605, 'url': 'https://sun9-78.userapi.com/s/v1/ig2/-7E3tJJ5nyYsovyis62ToV90CGhhkej32Lq6YyWxPKeFFOeVfwvDI-vJvxNEX6jgPJdEiQGe7o2hCztJIQL_7J_0.jpg?quality=95&as=32x43,48x64,72x96,108x144,160x213,240x320,360x480,480x640,540x720,640x854,720x960,1080x1441,1280x1708,1440x1921,1919x2560&from=bu&cs=605x807'}, {'height': 1080, 'type': 'z', 'width': 810, 'url': 'https://sun9-78.userapi.com/s/v1/ig2/-7E3tJJ5nyYsovyis62ToV90CGhhkej32Lq6YyWxPKeFFOeVfwvDI-vJvxNEX6jgPJdEiQGe7o2hCztJIQL_7J_0.jpg?quality=95&as=32x43,48x64,72x96,108x144,160x213,240x320,360x480,480x640,540x720,640x854,720x960,1080x1441,1280x1708,1440x1921,1919x2560&from=bu&cs=810x1080'}, {'height': 2160, 'type': 'w', 'width': 1619, 'url': 'https://sun9-78.userapi.com/s/v1/ig2/-7E3tJJ5nyYsovyis62ToV90CGhhkej32Lq6YyWxPKeFFOeVfwvDI-vJvxNEX6jgPJdEiQGe7o2hCztJIQL_7J_0.jpg?quality=95&as=32x43,48x64,72x96,108x144,160x213,240x320,360x480,480x640,540x720,640x854,720x960,1080x1441,1280x1708,1440x1921,1919x2560&from=bu&cs=1619x2160'}, {'height': 173, 'type': 'o', 'width': 130, 'url': 'https://sun9-78.userapi.com/s/v1/ig2/-7E3tJJ5nyYsovyis62ToV90CGhhkej32Lq6YyWxPKeFFOeVfwvDI-vJvxNEX6jgPJdEiQGe7o2hCztJIQL_7J_0.jpg?quality=95&as=32x43,48x64,72x96,108x144,160x213,240x320,360x480,480x640,540x720,640x854,720x960,1080x1441,1280x1708,1440x1921,1919x2560&from=bu&cs=130x173'}, {'height': 267, 'type': 'p', 'width': 200, 'url': 'https://sun9-78.userapi.com/s/v1/ig2/-7E3tJJ5nyYsovyis62ToV90CGhhkej32Lq6YyWxPKeFFOeVfwvDI-vJvxNEX6jgPJdEiQGe7o2hCztJIQL_7J_0.jpg?quality=95&as=32x43,48x64,72x96,108x144,160x213,240x320,360x480,480x640,540x720,640x854,720x960,1080x1441,1280x1708,1440x1921,1919x2560&from=bu&cs=200x267'}, {'height': 427, 'type': 'q', 'width': 320, 'url': 'https://sun9-78.userapi.com/s/v1/ig2/-7E3tJJ5nyYsovyis62ToV90CGhhkej32Lq6YyWxPKeFFOeVfwvDI-vJvxNEX6jgPJdEiQGe7o2hCztJIQL_7J_0.jpg?quality=95&as=32x43,48x64,72x96,108x144,160x213,240x320,360x480,480x640,540x720,640x854,720x960,1080x1441,1280x1708,1440x1921,1919x2560&from=bu&cs=320x427'}, {'height': 680, 'type': 'r', 'width': 510, 'url': 'https://sun9-78.userapi.com/s/v1/ig2/-7E3tJJ5nyYsovyis62ToV90CGhhkej32Lq6YyWxPKeFFOeVfwvDI-vJvxNEX6jgPJdEiQGe7o2hCztJIQL_7J_0.jpg?quality=95&as=32x43,48x64,72x96,108x144,160x213,240x320,360x480,480x640,540x720,640x854,720x960,1080x1441,1280x1708,1440x1921,1919x2560&from=bu&cs=510x680'}], 'text': '', 'web_view_token': '4719a3abd86c92b94e', 'has_tags': False, 'orig_photo': {'height': 2560, 'type': 'base', 'url': 'https://sun9-78.userapi.com/s/v1/ig2/-7E3tJJ5nyYsovyis62ToV90CGhhkej32Lq6YyWxPKeFFOeVfwvDI-vJvxNEX6jgPJdEiQGe7o2hCztJIQL_7J_0.jpg?quality=95&as=32x43,48x64,72x96,108x144,160x213,240x320,360x480,480x640,540x720,640x854,720x960,1080x1441,1280x1708,1440x1921,1919x2560&from=bu', 'width': 1919}}}], 'date': 1688641016, 'from_id': 102183885, 'id': 15381, 'likes': {'can_like': 0, 'count': 108, 'user_likes': 0}, 'reaction_set_id': 'reactions', 'reactions': {'count': 108, 'items': [{'id': 0, 'count': 108}]}, 'owner_id': 102183885, 'post_type': 'post', 'reposts': {'count': 1}, 'text': '', 'views': {'count': 3519}}\n"
     ]
    }
   ],
   "source": [
    "# Парсер постов со страницы с использованием VK API\n",
    "TOKEN_USER = TOKENVK\n",
    "VERSION = 5.199\n",
    "OWNER_ID = \"ltkitten\"\n",
    "\n",
    "response = requests.get('https://api.vk.com/method/wall.get',\n",
    "params={'access_token': TOKEN_USER,\n",
    "        'v': VERSION,\n",
    "        'count': 100,\n",
    "        'owner_id': OWNER_ID,\n",
    "        'filter': str('owner')})\n",
    "\n",
    "data = response.json()['response']['items']\n",
    "print(data[0])"
   ]
  },
  {
   "cell_type": "code",
   "execution_count": 162,
   "metadata": {},
   "outputs": [],
   "source": [
    "# Создаем Список для дальнейшей загрузки в таблицу.\n",
    "data_to_sql = []\n",
    "for i in range(len(data)):\n",
    "    temp_list = []\n",
    "    temp_list.append(data[i]['likes']['count'])\n",
    "    temp_list.append(data[i]['date'])\n",
    "    data_to_sql.append(temp_list)\n",
    "    data_to_sql[i][1] = datetime.datetime.fromtimestamp(data_to_sql[i][1])"
   ]
  },
  {
   "cell_type": "code",
   "execution_count": 4,
   "metadata": {},
   "outputs": [],
   "source": [
    "# Создаем подключение к движку sqlite\n",
    "cur = con.cursor()"
   ]
  },
  {
   "cell_type": "code",
   "execution_count": 164,
   "metadata": {},
   "outputs": [],
   "source": [
    "# Создаем таблицу и выполняем запрос\n",
    "cur.execute(\"CREATE TABLE VkPosts(likes, Date, Daypart, Weekday)\")\n",
    "con.commit()"
   ]
  },
  {
   "cell_type": "code",
   "execution_count": 165,
   "metadata": {},
   "outputs": [],
   "source": [
    "# Создаем столбец времени суток для аналитики\n",
    "for i in range(len(data_to_sql)):\n",
    "    if data_to_sql[i][1].time() <= datetime.time(5, 59, 59):\n",
    "        data_to_sql[i].append(\"Night\")\n",
    "        continue\n",
    "    if data_to_sql[i][1].time() <= datetime.time(11, 59, 59):\n",
    "        data_to_sql[i].append(\"Morning\")\n",
    "        continue\n",
    "    if data_to_sql[i][1].time() <= datetime.time(17, 59, 59):\n",
    "        data_to_sql[i].append(\"Afternoon\")\n",
    "        continue\n",
    "    if data_to_sql[i][1].time() <= datetime.time(23, 59, 59):\n",
    "        data_to_sql[i].append(\"Evening\")\n",
    "        continue"
   ]
  },
  {
   "cell_type": "code",
   "execution_count": 166,
   "metadata": {},
   "outputs": [
    {
     "name": "stdout",
     "output_type": "stream",
     "text": [
      "[108, datetime.datetime(2023, 7, 6, 13, 56, 56), 'Afternoon', 'Thursday']\n",
      "[51, datetime.datetime(2023, 5, 25, 14, 30, 48), 'Afternoon', 'Thursday']\n",
      "[67, datetime.datetime(2023, 5, 6, 1, 1, 40), 'Night', 'Saturday']\n",
      "[66, datetime.datetime(2023, 3, 7, 18, 36, 51), 'Evening', 'Tuesday']\n",
      "[89, datetime.datetime(2023, 2, 8, 0, 7, 31), 'Night', 'Wednesday']\n",
      "[86, datetime.datetime(2022, 10, 19, 11, 4, 44), 'Morning', 'Wednesday']\n",
      "[70, datetime.datetime(2022, 8, 31, 2, 42, 41), 'Night', 'Wednesday']\n",
      "[110, datetime.datetime(2022, 6, 29, 15, 42, 46), 'Afternoon', 'Wednesday']\n",
      "[98, datetime.datetime(2022, 6, 25, 17, 33, 45), 'Afternoon', 'Saturday']\n",
      "[87, datetime.datetime(2022, 6, 17, 20, 29, 10), 'Evening', 'Friday']\n",
      "[132, datetime.datetime(2022, 6, 14, 14, 2, 12), 'Afternoon', 'Tuesday']\n",
      "[103, datetime.datetime(2022, 6, 4, 17, 57, 22), 'Afternoon', 'Saturday']\n",
      "[14, datetime.datetime(2022, 5, 26, 10, 44, 38), 'Morning', 'Thursday']\n",
      "[60, datetime.datetime(2022, 5, 19, 13, 59, 20), 'Afternoon', 'Thursday']\n",
      "[87, datetime.datetime(2022, 5, 5, 2, 0, 34), 'Night', 'Thursday']\n",
      "[17, datetime.datetime(2022, 5, 5, 1, 58, 40), 'Night', 'Thursday']\n",
      "[86, datetime.datetime(2022, 4, 24, 20, 40, 46), 'Evening', 'Sunday']\n",
      "[49, datetime.datetime(2022, 4, 24, 0, 56, 12), 'Night', 'Sunday']\n",
      "[52, datetime.datetime(2022, 4, 18, 15, 42), 'Afternoon', 'Monday']\n",
      "[70, datetime.datetime(2022, 4, 15, 19, 27, 58), 'Evening', 'Friday']\n",
      "[11, datetime.datetime(2022, 4, 7, 8, 48, 31), 'Morning', 'Thursday']\n",
      "[73, datetime.datetime(2022, 3, 29, 9, 0, 48), 'Morning', 'Tuesday']\n",
      "[7, datetime.datetime(2022, 3, 22, 14, 14, 31), 'Afternoon', 'Tuesday']\n",
      "[34, datetime.datetime(2022, 3, 22, 0, 16, 17), 'Night', 'Tuesday']\n",
      "[69, datetime.datetime(2021, 9, 18, 17, 35, 43), 'Afternoon', 'Saturday']\n",
      "[53, datetime.datetime(2021, 9, 18, 17, 8, 55), 'Afternoon', 'Saturday']\n",
      "[6, datetime.datetime(2021, 9, 11, 11, 45, 39), 'Morning', 'Saturday']\n",
      "[79, datetime.datetime(2021, 8, 28, 14, 54, 19), 'Afternoon', 'Saturday']\n",
      "[58, datetime.datetime(2021, 7, 4, 0, 46, 58), 'Night', 'Sunday']\n",
      "[105, datetime.datetime(2021, 6, 18, 15, 45, 10), 'Afternoon', 'Friday']\n",
      "[4, datetime.datetime(2021, 3, 17, 5, 32, 45), 'Night', 'Wednesday']\n",
      "[12, datetime.datetime(2021, 3, 15, 4, 45, 44), 'Night', 'Monday']\n",
      "[21, datetime.datetime(2021, 3, 15, 4, 44, 47), 'Night', 'Monday']\n",
      "[10, datetime.datetime(2021, 1, 5, 0, 18, 19), 'Night', 'Tuesday']\n",
      "[84, datetime.datetime(2020, 12, 29, 21, 45, 5), 'Evening', 'Tuesday']\n",
      "[55, datetime.datetime(2020, 10, 4, 22, 39, 8), 'Evening', 'Sunday']\n",
      "[6, datetime.datetime(2020, 9, 23, 4, 9, 45), 'Night', 'Wednesday']\n",
      "[74, datetime.datetime(2020, 9, 23, 0, 15, 16), 'Night', 'Wednesday']\n",
      "[10, datetime.datetime(2020, 9, 8, 23, 12, 43), 'Evening', 'Tuesday']\n",
      "[24, datetime.datetime(2020, 9, 2, 5, 58, 35), 'Night', 'Wednesday']\n",
      "[51, datetime.datetime(2020, 1, 10, 1, 2, 59), 'Night', 'Friday']\n",
      "[2, datetime.datetime(2019, 10, 11, 16, 2, 51), 'Afternoon', 'Friday']\n",
      "[65, datetime.datetime(2019, 8, 13, 23, 20, 30), 'Evening', 'Tuesday']\n",
      "[4, datetime.datetime(2019, 8, 1, 10, 31), 'Morning', 'Thursday']\n",
      "[71, datetime.datetime(2019, 7, 29, 17, 29, 1), 'Afternoon', 'Monday']\n",
      "[7, datetime.datetime(2019, 7, 1, 12, 10, 44), 'Afternoon', 'Monday']\n",
      "[31, datetime.datetime(2019, 6, 27, 19, 15, 47), 'Evening', 'Thursday']\n",
      "[38, datetime.datetime(2019, 4, 29, 21, 59, 54), 'Evening', 'Monday']\n",
      "[33, datetime.datetime(2019, 4, 20, 12, 49, 27), 'Afternoon', 'Saturday']\n",
      "[141, datetime.datetime(2019, 4, 5, 19, 32, 12), 'Evening', 'Friday']\n",
      "[69, datetime.datetime(2019, 2, 12, 21, 17, 25), 'Evening', 'Tuesday']\n",
      "[14, datetime.datetime(2019, 1, 17, 0, 35, 52), 'Night', 'Thursday']\n",
      "[131, datetime.datetime(2019, 1, 6, 1, 55, 15), 'Night', 'Sunday']\n",
      "[15, datetime.datetime(2019, 1, 1, 17, 36, 15), 'Afternoon', 'Tuesday']\n",
      "[67, datetime.datetime(2018, 11, 28, 16, 30, 9), 'Afternoon', 'Wednesday']\n",
      "[12, datetime.datetime(2018, 10, 30, 21, 31, 49), 'Evening', 'Tuesday']\n",
      "[127, datetime.datetime(2018, 9, 4, 15, 9, 11), 'Afternoon', 'Tuesday']\n",
      "[8, datetime.datetime(2018, 7, 16, 2, 17, 52), 'Night', 'Monday']\n",
      "[5, datetime.datetime(2018, 7, 6, 0, 36, 10), 'Night', 'Friday']\n",
      "[7, datetime.datetime(2018, 4, 20, 19, 29, 2), 'Evening', 'Friday']\n",
      "[4, datetime.datetime(2018, 4, 14, 9, 20, 6), 'Morning', 'Saturday']\n",
      "[4, datetime.datetime(2018, 2, 26, 21, 7, 56), 'Evening', 'Monday']\n",
      "[5, datetime.datetime(2018, 2, 23, 10, 3, 58), 'Morning', 'Friday']\n",
      "[7, datetime.datetime(2018, 2, 20, 20, 22, 13), 'Evening', 'Tuesday']\n",
      "[10, datetime.datetime(2018, 1, 16, 7, 46, 31), 'Morning', 'Tuesday']\n",
      "[7, datetime.datetime(2017, 12, 30, 23, 5, 20), 'Evening', 'Saturday']\n",
      "[9, datetime.datetime(2017, 12, 23, 1, 51, 10), 'Night', 'Saturday']\n",
      "[17, datetime.datetime(2017, 12, 14, 21, 17, 28), 'Evening', 'Thursday']\n",
      "[8, datetime.datetime(2017, 12, 11, 18, 35, 39), 'Evening', 'Monday']\n",
      "[7, datetime.datetime(2017, 12, 5, 15, 19, 8), 'Afternoon', 'Tuesday']\n",
      "[9, datetime.datetime(2017, 11, 5, 11, 34, 21), 'Morning', 'Sunday']\n",
      "[5, datetime.datetime(2017, 10, 23, 18, 15, 32), 'Evening', 'Monday']\n",
      "[8, datetime.datetime(2017, 10, 18, 23, 34, 48), 'Evening', 'Wednesday']\n",
      "[12, datetime.datetime(2017, 10, 15, 18, 26, 53), 'Evening', 'Sunday']\n",
      "[20, datetime.datetime(2017, 9, 13, 6, 47, 45), 'Morning', 'Wednesday']\n",
      "[50, datetime.datetime(2017, 7, 30, 14, 42, 31), 'Afternoon', 'Sunday']\n",
      "[11, datetime.datetime(2017, 7, 20, 23, 45, 53), 'Evening', 'Thursday']\n",
      "[9, datetime.datetime(2017, 7, 19, 9, 45, 41), 'Morning', 'Wednesday']\n",
      "[7, datetime.datetime(2017, 7, 16, 11, 47, 56), 'Morning', 'Sunday']\n",
      "[21, datetime.datetime(2017, 6, 30, 15, 20, 3), 'Afternoon', 'Friday']\n",
      "[6, datetime.datetime(2017, 6, 27, 11, 4, 48), 'Morning', 'Tuesday']\n",
      "[15, datetime.datetime(2017, 6, 11, 19, 24, 41), 'Evening', 'Sunday']\n",
      "[15, datetime.datetime(2017, 6, 11, 19, 24, 30), 'Evening', 'Sunday']\n",
      "[11, datetime.datetime(2017, 5, 19, 7, 56, 40), 'Morning', 'Friday']\n",
      "[58, datetime.datetime(2017, 4, 28, 11, 42, 20), 'Morning', 'Friday']\n",
      "[281, datetime.datetime(2017, 4, 28, 11, 39, 43), 'Morning', 'Friday']\n",
      "[20, datetime.datetime(2017, 4, 28, 0, 37, 49), 'Night', 'Friday']\n",
      "[48, datetime.datetime(2017, 4, 16, 18, 34, 12), 'Evening', 'Sunday']\n",
      "[13, datetime.datetime(2017, 4, 14, 18, 46, 1), 'Evening', 'Friday']\n",
      "[23, datetime.datetime(2017, 3, 11, 23, 47, 49), 'Evening', 'Saturday']\n",
      "[15, datetime.datetime(2017, 3, 8, 0, 39, 43), 'Night', 'Wednesday']\n",
      "[18, datetime.datetime(2017, 3, 5, 16, 19, 9), 'Afternoon', 'Sunday']\n",
      "[8, datetime.datetime(2017, 2, 28, 18, 4, 13), 'Evening', 'Tuesday']\n",
      "[13, datetime.datetime(2017, 2, 26, 0, 38, 47), 'Night', 'Sunday']\n",
      "[9, datetime.datetime(2017, 2, 26, 0, 34, 41), 'Night', 'Sunday']\n",
      "[13, datetime.datetime(2017, 2, 21, 21, 24, 49), 'Evening', 'Tuesday']\n",
      "[6, datetime.datetime(2017, 2, 11, 12, 3, 39), 'Afternoon', 'Saturday']\n",
      "[10, datetime.datetime(2017, 2, 11, 11, 57, 1), 'Morning', 'Saturday']\n",
      "[19, datetime.datetime(2017, 1, 29, 1, 6, 22), 'Night', 'Sunday']\n",
      "[12, datetime.datetime(2017, 1, 18, 16, 6, 6), 'Afternoon', 'Wednesday']\n"
     ]
    }
   ],
   "source": [
    "# Создаем столбец дня недели для аналитики\n",
    "for i in range(len(data_to_sql)):\n",
    "    if data_to_sql[i][1].weekday() == 0:\n",
    "        data_to_sql[i].append('Monday')\n",
    "        continue\n",
    "    if data_to_sql[i][1].weekday() == 1:\n",
    "        data_to_sql[i].append('Tuesday')\n",
    "        continue\n",
    "    if data_to_sql[i][1].weekday() == 2:\n",
    "        data_to_sql[i].append('Wednesday')\n",
    "        continue\n",
    "    if data_to_sql[i][1].weekday() == 3:\n",
    "        data_to_sql[i].append('Thursday')\n",
    "        continue\n",
    "    if data_to_sql[i][1].weekday() == 4:\n",
    "        data_to_sql[i].append('Friday')\n",
    "        continue\n",
    "    if data_to_sql[i][1].weekday() == 5:\n",
    "        data_to_sql[i].append('Saturday')\n",
    "        continue\n",
    "    if data_to_sql[i][1].weekday() == 6:\n",
    "        data_to_sql[i].append('Sunday')\n",
    "        continue\n",
    "for i in range(len(data_to_sql)):\n",
    "    print(data_to_sql[i])"
   ]
  },
  {
   "cell_type": "code",
   "execution_count": 167,
   "metadata": {},
   "outputs": [],
   "source": [
    "# Загружаем спарсенные данные в таблицу\n",
    "insert_query = (\"INSERT INTO VkPosts(likes, Date, Daypart, Weekday) VALUES (?, ?, ?, ?)\")\n",
    "cur.executemany(insert_query, data_to_sql)\n",
    "con.commit()"
   ]
  },
  {
   "cell_type": "code",
   "execution_count": 59,
   "metadata": {},
   "outputs": [],
   "source": [
    "cur.close()"
   ]
  },
  {
   "cell_type": "code",
   "execution_count": 172,
   "metadata": {},
   "outputs": [
    {
     "name": "stdout",
     "output_type": "stream",
     "text": [
      "[(1463, 'Afternoon'), (1035, 'Evening'), (624, 'Morning'), (916, 'Night')]\n"
     ]
    }
   ],
   "source": [
    "# Начинаем писать сами запросы.\n",
    "# Запрос 1. Влияет ли время суток на количество лайков?\n",
    "cur.execute(\"SELECT SUM(likes), Daypart FROM VkPosts GROUP BY Daypart\")\n",
    "sqldata=cur.fetchall()\n",
    "print(sqldata)"
   ]
  },
  {
   "cell_type": "code",
   "execution_count": 173,
   "metadata": {},
   "outputs": [
    {
     "name": "stdout",
     "output_type": "stream",
     "text": [
      "[(877, 'Friday'), (226, 'Monday'), (567, 'Saturday'), (594, 'Sunday'), (425, 'Thursday'), (755, 'Tuesday'), (594, 'Wednesday')]\n"
     ]
    }
   ],
   "source": [
    "# Запрос 2. Влияет ли день недели на количество лайков?\n",
    "cur.execute(\"SELECT SUM(likes), Weekday FROM VkPosts WHERE likes GROUP BY Weekday\")\n",
    "sqldata=cur.fetchall()\n",
    "print(sqldata)"
   ]
  },
  {
   "cell_type": "code",
   "execution_count": 4,
   "metadata": {},
   "outputs": [
    {
     "name": "stdout",
     "output_type": "stream",
     "text": [
      "[(108, '2023-07-06 13:56:56', 41.97648148145527), (51, '2023-05-25 14:30:48', 19.561898148152977), (67, '2023-05-06 01:01:40', 59.26723379641771), (66, '2023-03-07 18:36:51', 27.770370370242745), (89, '2023-02-08 00:07:31', 111.5435995371081), (86, '2022-10-19 11:04:44', 49.348645833320916), (70, '2022-08-31 02:42:41', 62.45827546296641), (110, '2022-06-29 15:42:46', 3.9229282406158745), (98, '2022-06-25 17:33:45', 7.878182870335877), (87, '2022-06-17 20:29:10', 3.2687268522568047), (132, '2022-06-14 14:02:12', 9.836689814459532), (103, '2022-06-04 17:57:22', 9.30050925957039), (14, '2022-05-26 10:44:38', 6.864791666623205), (60, '2022-05-19 13:59:20', 14.49914351850748), (87, '2022-05-05 02:00:34', 0.0013194442726671696), (17, '2022-05-05 01:58:40', 10.22076388914138), (86, '2022-04-24 20:40:46', 0.8226157403551042), (49, '2022-04-24 00:56:12', 5.384861111175269), (52, '2022-04-18 15:42:00', 2.8430787036195397), (70, '2022-04-15 19:27:58', 8.44406250026077), (11, '2022-04-07 08:48:31', 8.991469907574356), (73, '2022-03-29 09:00:48', 6.7821412035264075), (7, '2022-03-22 14:14:31', 0.5821064813062549), (34, '2022-03-22 00:16:17', 184.27817129623145), (69, '2021-09-18 17:35:43', 0.01861111121252179), (53, '2021-09-18 17:08:55', 7.224490740802139), (6, '2021-09-11 11:45:39', 13.868981481529772), (79, '2021-08-28 14:54:19', 55.58843749994412), (58, '2021-07-04 00:46:58', 15.376250000204891), (105, '2021-06-18 15:45:10', 93.42528935149312), (4, '2021-03-17 05:32:45', 2.032650463283062), (12, '2021-03-15 04:45:44', 0.0006597219035029411), (21, '2021-03-15 04:44:47', 69.18504629656672), (10, '2021-01-05 00:18:19', 6.10641203681007), (84, '2020-12-29 21:45:05', 85.96246527787298), (55, '2020-10-04 22:39:08', 11.770405092742294), (6, '2020-09-23 04:09:45', 0.1628356482833624), (74, '2020-09-23 00:15:16', 14.043437499552965), (10, '2020-09-08 23:12:43', 6.718148148152977), (24, '2020-09-02 05:58:35', 236.20527777820826), (51, '2020-01-10 01:02:59', 90.37509259255603), (2, '2019-10-11 16:02:51', 58.69607638893649), (65, '2019-08-13 23:20:30', 12.534374999813735), (4, '2019-08-01 10:31:00', 2.7097106482833624), (71, '2019-07-29 17:29:01', 28.221030092332512), (7, '2019-07-01 12:10:44', 3.7048263889737427), (31, '2019-06-27 19:15:47', 58.886030092369765), (38, '2019-04-29 21:59:54', 9.382256944663823), (33, '2019-04-20 12:49:27', 14.720312499906868), (141, '2019-04-05 19:32:12', 51.92693287041038), (69, '2019-02-12 21:17:25', 26.86218750011176), (14, '2019-01-17 00:35:52', 10.944872685242444), (131, '2019-01-06 01:55:15', 4.346527777612209), (15, '2019-01-01 17:36:15', 34.04590277792886), (67, '2018-11-28 16:30:09', 28.790509259328246), (12, '2018-10-30 21:31:49', 56.26571759255603), (127, '2018-09-04 15:09:11', 50.53563657402992), (8, '2018-07-16 02:17:52', 10.070624999701977), (5, '2018-07-06 00:36:10', 76.21328703733161), (7, '2018-04-20 19:29:02', 6.422870370093733), (4, '2018-04-14 09:20:06', 46.50844907434657), (4, '2018-02-26 21:07:56', 3.461087963078171), (5, '2018-02-23 10:03:58', 2.570659722201526), (7, '2018-02-20 20:22:13', 35.524791666306555), (10, '2018-01-16 07:46:31', 16.361932870466262), (7, '2017-12-30 23:05:20', 7.884837963152677), (9, '2017-12-23 01:51:10', 8.190069444477558), (17, '2017-12-14 21:17:28', 3.112372685223818), (8, '2017-12-11 18:35:39', 6.136469907127321), (7, '2017-12-05 15:19:08', 30.15609953692183), (9, '2017-11-05 11:34:21', 12.721400463022292), (5, '2017-10-23 18:15:32', 4.778287037275732), (8, '2017-10-18 23:34:48', 3.2138310186564922), (12, '2017-10-15 18:26:53', 32.48550925916061), (20, '2017-09-13 06:47:45', 44.670300925616175), (50, '2017-07-30 14:42:31', 9.622662037145346), (11, '2017-07-20 23:45:53', 1.5834722220897675), (9, '2017-07-19 09:45:41', 2.91510416707024), (7, '2017-07-16 11:47:56', 15.852696759160608), (21, '2017-06-30 15:20:03', 3.177256944589317), (6, '2017-06-27 11:04:48', 15.65285879606381), (15, '2017-06-11 19:24:41', 0.00012731458991765976), (15, '2017-06-11 19:24:30', 23.47766203712672), (11, '2017-05-19 07:56:40', 20.843287037219852), (58, '2017-04-28 11:42:20', 0.0018171295523643494), (281, '2017-04-28 11:39:43', 0.45965277776122093), (20, '2017-04-28 00:37:49', 11.252511573955417), (48, '2017-04-16 18:34:12', 1.9917939817532897), (13, '2017-04-14 18:46:01', 33.79041666677222), (23, '2017-03-11 23:47:49', 3.96395833324641), (15, '2017-03-08 00:39:43', 2.3476157407276332), (18, '2017-03-05 16:19:09', 4.927037036977708), (8, '2017-02-28 18:04:13', 2.7259953701868653), (13, '2017-02-26 00:38:47', 0.0028472221456468105), (9, '2017-02-26 00:34:41', 4.131851851940155), (13, '2017-02-21 21:24:49', 10.389699073974043), (6, '2017-02-11 12:03:39', 0.004606481641530991), (10, '2017-02-11 11:57:01', 13.451840277761221), (19, '2017-01-29 01:06:22', 10.37518518511206), (12, '2017-01-18 16:06:06', None)]\n"
     ]
    }
   ],
   "source": [
    "# Запрос 3. Влияет ли промежуток?\n",
    "cur.execute('''SELECT\n",
    "    likes,\n",
    "    Date,\n",
    "    JULIANDAY(Date) - JULIANDAY(LAG(Date) OVER (ORDER BY Date)) AS day_diff\n",
    "FROM\n",
    "    VkPosts\n",
    "ORDER BY\n",
    "    Date DESC;''')\n",
    "sqldata=cur.fetchall()\n",
    "print(sqldata)"
   ]
  },
  {
   "cell_type": "code",
   "execution_count": 5,
   "metadata": {},
   "outputs": [
    {
     "name": "stdout",
     "output_type": "stream",
     "text": [
      "[(14, '2022-05-26 10:44:38', 21.365254629403353), (17, '2022-05-05 01:58:40', 27.715381944552064), (11, '2022-04-07 08:48:31', 15.773611111100763), (7, '2022-03-22 14:14:31', 192.10337962955236), (6, '2021-09-11 11:45:39', 178.2589583331719), (4, '2021-03-17 05:32:45', 2.032650463283062), (12, '2021-03-15 04:45:44', 0.0006597219035029411), (21, '2021-03-15 04:44:47', 69.18504629656672), (10, '2021-01-05 00:18:19', 103.83928240742534), (6, '2020-09-23 04:09:45', 14.206273147836328), (10, '2020-09-08 23:12:43', 6.718148148152977), (24, '2020-09-02 05:58:35', 326.5803703707643), (2, '2019-10-11 16:02:51', 71.23045138875023), (4, '2019-08-01 10:31:00', 30.930740740615875), (7, '2019-07-01 12:10:44', 165.48254629643634), (14, '2019-01-17 00:35:52', 15.291400462854654), (15, '2019-01-01 17:36:15', 62.836412037257105), (12, '2018-10-30 21:31:49', 106.80135416658595), (8, '2018-07-16 02:17:52', 10.070624999701977), (5, '2018-07-06 00:36:10', 76.21328703733161), (7, '2018-04-20 19:29:02', 6.422870370093733), (4, '2018-04-14 09:20:06', 46.50844907434657), (4, '2018-02-26 21:07:56', 3.461087963078171), (5, '2018-02-23 10:03:58', 2.570659722201526), (7, '2018-02-20 20:22:13', 35.524791666306555), (10, '2018-01-16 07:46:31', 16.361932870466262), (7, '2017-12-30 23:05:20', 7.884837963152677), (9, '2017-12-23 01:51:10', 8.190069444477558), (17, '2017-12-14 21:17:28', 3.112372685223818), (8, '2017-12-11 18:35:39', 6.136469907127321), (7, '2017-12-05 15:19:08', 30.15609953692183), (9, '2017-11-05 11:34:21', 12.721400463022292), (5, '2017-10-23 18:15:32', 4.778287037275732), (8, '2017-10-18 23:34:48', 3.2138310186564922), (12, '2017-10-15 18:26:53', 32.48550925916061), (20, '2017-09-13 06:47:45', 54.29296296276152), (11, '2017-07-20 23:45:53', 1.5834722220897675), (9, '2017-07-19 09:45:41', 2.91510416707024), (7, '2017-07-16 11:47:56', 15.852696759160608), (21, '2017-06-30 15:20:03', 3.177256944589317), (6, '2017-06-27 11:04:48', 15.65285879606381), (15, '2017-06-11 19:24:41', 0.00012731458991765976), (15, '2017-06-11 19:24:30', 23.47766203712672), (11, '2017-05-19 07:56:40', 21.304756944533437), (20, '2017-04-28 00:37:49', 13.244305555708706), (13, '2017-04-14 18:46:01', 33.79041666677222), (23, '2017-03-11 23:47:49', 3.96395833324641), (15, '2017-03-08 00:39:43', 2.3476157407276332), (18, '2017-03-05 16:19:09', 4.927037036977708), (8, '2017-02-28 18:04:13', 2.7259953701868653), (13, '2017-02-26 00:38:47', 0.0028472221456468105), (9, '2017-02-26 00:34:41', 4.131851851940155), (13, '2017-02-21 21:24:49', 10.389699073974043), (6, '2017-02-11 12:03:39', 0.004606481641530991), (10, '2017-02-11 11:57:01', 13.451840277761221), (19, '2017-01-29 01:06:22', 10.37518518511206), (12, '2017-01-18 16:06:06', None)]\n"
     ]
    }
   ],
   "source": [
    "# Задание 3. Уберем выбросы в ллайках на моей странице.\n",
    "cur.execute('''SELECT\n",
    "    likes,\n",
    "    Date,\n",
    "    JULIANDAY(Date) - JULIANDAY(LAG(Date) OVER (ORDER BY Date)) AS day_diff\n",
    "FROM\n",
    "    VkPosts\n",
    "WHERE likes < 25\n",
    "ORDER BY\n",
    "    Date DESC;''')\n",
    "sqldata=cur.fetchall()\n",
    "print(sqldata)"
   ]
  },
  {
   "cell_type": "code",
   "execution_count": 139,
   "metadata": {},
   "outputs": [],
   "source": [
    "db_df = pd.read_sql_query(\"SELECT * FROM VkPosts\", con)\n",
    "db_df.to_csv('database2.csv', index=False)"
   ]
  },
  {
   "cell_type": "code",
   "execution_count": 156,
   "metadata": {},
   "outputs": [],
   "source": [
    "con.close()"
   ]
  }
 ],
 "metadata": {
  "kernelspec": {
   "display_name": "venv",
   "language": "python",
   "name": "python3"
  },
  "language_info": {
   "codemirror_mode": {
    "name": "ipython",
    "version": 3
   },
   "file_extension": ".py",
   "mimetype": "text/x-python",
   "name": "python",
   "nbconvert_exporter": "python",
   "pygments_lexer": "ipython3",
   "version": "3.9.10"
  }
 },
 "nbformat": 4,
 "nbformat_minor": 2
}
